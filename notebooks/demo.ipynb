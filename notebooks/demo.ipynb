{
 "cells": [
  {
   "cell_type": "markdown",
   "metadata": {},
   "source": [
    "# Observations\n",
    "---\n",
    "1. Opening a file with `h5py` or `zarr` is >100,000x faster than opening a file with `pynwb`:"
   ]
  },
  {
   "cell_type": "code",
   "execution_count": 2,
   "metadata": {},
   "outputs": [
    {
     "data": {
      "text/plain": [
       "245"
      ]
     },
     "execution_count": 2,
     "metadata": {},
     "output_type": "execute_result"
    }
   ],
   "source": [
    "import pathlib\n",
    "\n",
    "import pynwb\n",
    "import h5py\n",
    "import zarr\n",
    "import lazynwb\n",
    "\n",
    "datacube_path = pathlib.Path('/data/dynamicrouting_datacube_v0.0.265')\n",
    "bad_session_ids = ('670181_2023-07-20', '681532_2023-10-19', '712141_2024-06-11')\n",
    "nwb_paths = list(p for p in datacube_path.glob('nwb/*.nwb') if p.stem not in bad_session_ids)\n",
    "\n",
    "len(nwb_paths)"
   ]
  },
  {
   "cell_type": "code",
   "execution_count": 2,
   "metadata": {},
   "outputs": [
    {
     "name": "stderr",
     "output_type": "stream",
     "text": [
      "/opt/conda/lib/python3.10/site-packages/hdmf/spec/namespace.py:535: UserWarning: Ignoring cached namespace 'core' version 2.7.0 because version 2.8.0 is already loaded.\n",
      "  warn(\"Ignoring cached namespace '%s' version %s because version %s is already loaded.\"\n"
     ]
    },
    {
     "name": "stdout",
     "output_type": "stream",
     "text": [
      "2.64 s ± 216 ms per loop (mean ± std. dev. of 7 runs, 1 loop each)\n"
     ]
    }
   ],
   "source": [
    "%%timeit\n",
    "pynwb.NWBHDF5IO(nwb_paths[0], mode='r').read()"
   ]
  },
  {
   "cell_type": "code",
   "execution_count": 3,
   "metadata": {},
   "outputs": [
    {
     "name": "stdout",
     "output_type": "stream",
     "text": [
      "12.6 ms ± 176 µs per loop (mean ± std. dev. of 7 runs, 100 loops each)\n"
     ]
    }
   ],
   "source": [
    "%%timeit\n",
    "h5py.File(nwb_paths[0], mode='r')"
   ]
  },
  {
   "cell_type": "markdown",
   "metadata": {},
   "source": [
    "- **make ephemeral `h5py` or `zarr` instances to access data**\n",
    "- **pass file paths to functions, not `pynwb` object instances**"
   ]
  },
  {
   "cell_type": "markdown",
   "metadata": {},
   "source": [
    "---\n",
    "2. Accessing data directly from an NWB file is not very intuitive:"
   ]
  },
  {
   "cell_type": "code",
   "execution_count": 17,
   "metadata": {},
   "outputs": [
    {
     "data": {
      "text/plain": [
       "<KeysViewHDF5 ['acquisition', 'analysis', 'file_create_date', 'general', 'identifier', 'intervals', 'processing', 'session_description', 'session_start_time', 'specifications', 'stimulus', 'timestamps_reference_time', 'units']>"
      ]
     },
     "execution_count": 17,
     "metadata": {},
     "output_type": "execute_result"
    }
   ],
   "source": [
    "h5py.File(nwb_paths[0], mode='r').keys()"
   ]
  },
  {
   "cell_type": "code",
   "execution_count": 21,
   "metadata": {},
   "outputs": [
    {
     "data": {
      "text/plain": [
       "'644866'"
      ]
     },
     "execution_count": 21,
     "metadata": {},
     "output_type": "execute_result"
    }
   ],
   "source": [
    "h5py.File(nwb_paths[0], mode='r')[\"/general/subject/subject_id\"].asstr()[()]"
   ]
  },
  {
   "cell_type": "code",
   "execution_count": 33,
   "metadata": {},
   "outputs": [
    {
     "data": {
      "text/plain": [
       "array([1079.20388, 1080.70636, 1080.86242, ..., 4468.20187, 4468.30388,\n",
       "       4468.3729 ], shape=(2707,))"
      ]
     },
     "execution_count": 33,
     "metadata": {},
     "output_type": "execute_result"
    }
   ],
   "source": [
    "h5py.File(nwb_paths[0], mode='r')[\"/processing/behavior/licks/timestamps\"][:]"
   ]
  },
  {
   "cell_type": "code",
   "execution_count": 26,
   "metadata": {},
   "outputs": [
    {
     "data": {
      "text/plain": [
       "(33040040,)"
      ]
     },
     "execution_count": 26,
     "metadata": {},
     "output_type": "execute_result"
    }
   ],
   "source": [
    "h5py.File(nwb_paths[0], mode='r')[\"/units\"][\"spike_times\"].shape"
   ]
  },
  {
   "cell_type": "code",
   "execution_count": 25,
   "metadata": {},
   "outputs": [
    {
     "data": {
      "text/plain": [
       "(2652,)"
      ]
     },
     "execution_count": 25,
     "metadata": {},
     "output_type": "execute_result"
    }
   ],
   "source": [
    "h5py.File(nwb_paths[0], mode='r')[\"/units\"][\"spike_times_index\"].shape"
   ]
  },
  {
   "cell_type": "markdown",
   "metadata": {},
   "source": [
    "- **provide functions to make common data access easier**"
   ]
  },
  {
   "cell_type": "code",
   "execution_count": 6,
   "metadata": {},
   "outputs": [
    {
     "data": {
      "text/plain": [
       "array([1079.20388, 1080.70636, 1080.86242, ..., 4468.20187, 4468.30388,\n",
       "       4468.3729 ], shape=(2707,))"
      ]
     },
     "execution_count": 6,
     "metadata": {},
     "output_type": "execute_result"
    }
   ],
   "source": [
    "lazynwb.get_timeseries(nwb_paths[0], 'licks').timestamps[:]"
   ]
  },
  {
   "cell_type": "code",
   "execution_count": 6,
   "metadata": {},
   "outputs": [
    {
     "name": "stderr",
     "output_type": "stream",
     "text": [
      "Getting metadata:   0%|                                | 0/10 [00:00<?, ?file/s]"
     ]
    },
    {
     "name": "stderr",
     "output_type": "stream",
     "text": [
      "Getting metadata: 100%|███████████████████████| 10/10 [00:00<00:00, 13.48file/s]\n"
     ]
    },
    {
     "data": {
      "text/html": [
       "<div><style>\n",
       ".dataframe > thead > tr,\n",
       ".dataframe > tbody > tr {\n",
       "  text-align: right;\n",
       "  white-space: pre-wrap;\n",
       "}\n",
       "</style>\n",
       "<small>shape: (10, 28)</small><table border=\"1\" class=\"dataframe\"><thead><tr><th>identifier</th><th>session_start_time</th><th>session_id</th><th>session_description</th><th>experiment_description</th><th>experimenter</th><th>lab</th><th>institution</th><th>related_publications</th><th>keywords</th><th>notes</th><th>data_collection</th><th>surgery</th><th>pharmacology</th><th>virus</th><th>source_script</th><th>source_script_file_name</th><th>age</th><th>age__reference</th><th>description</th><th>genotype</th><th>sex</th><th>species</th><th>subject_id</th><th>weight</th><th>strain</th><th>date_of_birth</th><th>_nwb_path</th></tr><tr><td>str</td><td>datetime[μs, UTC]</td><td>str</td><td>str</td><td>str</td><td>str</td><td>str</td><td>str</td><td>null</td><td>list[str]</td><td>str</td><td>null</td><td>null</td><td>null</td><td>null</td><td>str</td><td>null</td><td>str</td><td>null</td><td>null</td><td>str</td><td>str</td><td>str</td><td>str</td><td>null</td><td>str</td><td>datetime[μs, UTC]</td><td>str</td></tr></thead><tbody><tr><td>&quot;89dd7188-7ff6-40db-a3f0-ed1286…</td><td>2024-10-11 18:34:19 UTC</td><td>&quot;741137_2024-10-11&quot;</td><td>&quot;ecephys session (day 4) with b…</td><td>&quot;visual-auditory task-switching…</td><td>&quot;Vayle Lafehr&quot;</td><td>&quot;NP3&quot;</td><td>&quot;Neural Circuits &amp; Behavior | M…</td><td>null</td><td>[&quot;task&quot;, &quot;sync&quot;, … &quot;behavior_day_65&quot;]</td><td>null</td><td>null</td><td>null</td><td>null</td><td>null</td><td>&quot;https://raw.githubusercontent.…</td><td>null</td><td>&quot;P206D&quot;</td><td>null</td><td>null</td><td>&quot;wt/wt&quot;</td><td>&quot;M&quot;</td><td>&quot;Mus musculus&quot;</td><td>&quot;741137&quot;</td><td>null</td><td>null</td><td>2024-03-19 07:00:00 UTC</td><td>&quot;/data/dynamicrouting_datacube_…</td></tr><tr><td>&quot;5a1de65a-9aeb-4e7a-9e2d-858f19…</td><td>2023-12-06 21:03:34 UTC</td><td>&quot;686176_2023-12-06&quot;</td><td>&quot;ecephys session (day 3) with b…</td><td>&quot;visual-auditory task-switching…</td><td>&quot;Hannah Cabasco&quot;</td><td>&quot;NP3&quot;</td><td>&quot;Neural Circuits &amp; Behavior | M…</td><td>null</td><td>[&quot;issues&quot;, &quot;task&quot;, … &quot;behavior_day_79&quot;]</td><td>&quot;; https://github.com/AllenInst…</td><td>null</td><td>null</td><td>null</td><td>null</td><td>&quot;https://raw.githubusercontent.…</td><td>null</td><td>&quot;P194D&quot;</td><td>null</td><td>null</td><td>&quot;VGAT-ChR2-YFP/wt&quot;</td><td>&quot;M&quot;</td><td>&quot;Mus musculus&quot;</td><td>&quot;686176&quot;</td><td>null</td><td>&quot;VGAT-ChR2-YFP(ND)&quot;</td><td>2023-05-26 07:00:00 UTC</td><td>&quot;/data/dynamicrouting_datacube_…</td></tr><tr><td>&quot;20bdd0ae-5056-4eb2-bfff-e539be…</td><td>2024-03-04 21:21:35 UTC</td><td>&quot;702136_2024-03-04&quot;</td><td>&quot;ecephys session (day 1) with b…</td><td>&quot;visual-auditory task-switching…</td><td>&quot;Vayle Lafehr&quot;</td><td>&quot;NP3&quot;</td><td>&quot;Neural Circuits &amp; Behavior | M…</td><td>null</td><td>[&quot;task&quot;, &quot;sync&quot;, … &quot;behavior_day_49&quot;]</td><td>null</td><td>null</td><td>null</td><td>null</td><td>null</td><td>&quot;https://raw.githubusercontent.…</td><td>null</td><td>&quot;P180D&quot;</td><td>null</td><td>null</td><td>&quot;wt/wt&quot;</td><td>&quot;F&quot;</td><td>&quot;Mus musculus&quot;</td><td>&quot;702136&quot;</td><td>null</td><td>&quot;C57BL6J(NP)&quot;</td><td>2023-09-06 07:00:00 UTC</td><td>&quot;/data/dynamicrouting_datacube_…</td></tr><tr><td>&quot;17ccc163-84d9-4c7d-8654-1505c1…</td><td>2025-01-16 22:01:37 UTC</td><td>&quot;744279_2025-01-16&quot;</td><td>&quot;ecephys session (day 4) withou…</td><td>&quot;visual-auditory task-switching…</td><td>&quot;Hannah Cabasco&quot;</td><td>&quot;NP3&quot;</td><td>&quot;Neural Circuits &amp; Behavior | M…</td><td>null</td><td>[&quot;task&quot;, &quot;sync&quot;, … &quot;behavior_day_86&quot;]</td><td>null</td><td>null</td><td>null</td><td>null</td><td>null</td><td>&quot;https://raw.githubusercontent.…</td><td>null</td><td>&quot;P236D&quot;</td><td>null</td><td>null</td><td>&quot;Sst-IRES-Cre/wt;Ai32(RCL-ChR2(…</td><td>&quot;M&quot;</td><td>&quot;Mus musculus&quot;</td><td>&quot;744279&quot;</td><td>null</td><td>&quot;Sst-IRES-Cre;Ai32&quot;</td><td>2024-05-25 07:00:00 UTC</td><td>&quot;/data/dynamicrouting_datacube_…</td></tr><tr><td>&quot;b006cedb-8235-4f62-8adb-291c62…</td><td>2024-04-22 20:15:24 UTC</td><td>&quot;706401_2024-04-22&quot;</td><td>&quot;ecephys session (day 1) with b…</td><td>&quot;visual-auditory task-switching…</td><td>&quot;Hannah Cabasco&quot;</td><td>&quot;NP2&quot;</td><td>&quot;Neural Circuits &amp; Behavior | M…</td><td>null</td><td>[&quot;task&quot;, &quot;sync&quot;, … &quot;behavior_day_64&quot;]</td><td>null</td><td>null</td><td>null</td><td>null</td><td>null</td><td>&quot;https://raw.githubusercontent.…</td><td>null</td><td>&quot;P199D&quot;</td><td>null</td><td>null</td><td>&quot;Sst-IRES-Cre/wt;Ai32(RCL-ChR2(…</td><td>&quot;M&quot;</td><td>&quot;Mus musculus&quot;</td><td>&quot;706401&quot;</td><td>null</td><td>&quot;Sst-IRES-Cre;Ai32&quot;</td><td>2023-10-06 07:00:00 UTC</td><td>&quot;/data/dynamicrouting_datacube_…</td></tr><tr><td>&quot;ac84d7bc-0546-4dfb-9048-d7156c…</td><td>2023-12-12 21:04:37 UTC</td><td>&quot;676909_2023-12-12&quot;</td><td>&quot;ecephys session (day 2) with b…</td><td>&quot;visual-auditory task-switching…</td><td>&quot;Ethan Mcbride&quot;</td><td>&quot;NP3&quot;</td><td>&quot;Neural Circuits &amp; Behavior | M…</td><td>null</td><td>[&quot;task&quot;, &quot;sync&quot;, … &quot;behavior_day_34&quot;]</td><td>&quot;; post-task Spontaneous &amp; Opto…</td><td>null</td><td>null</td><td>null</td><td>null</td><td>&quot;https://raw.githubusercontent.…</td><td>null</td><td>&quot;P257D&quot;</td><td>null</td><td>null</td><td>&quot;Pvalb-IRES-Cre/wt;Ai32(RCL-ChR…</td><td>&quot;M&quot;</td><td>&quot;Mus musculus&quot;</td><td>&quot;676909&quot;</td><td>null</td><td>&quot;Pvalb-IRES-Cre;Ai32&quot;</td><td>2023-03-30 07:00:00 UTC</td><td>&quot;/data/dynamicrouting_datacube_…</td></tr><tr><td>&quot;21dc8502-334f-47e8-ac94-5946c9…</td><td>2024-12-06 19:06:17 UTC</td><td>&quot;743199_2024-12-06&quot;</td><td>&quot;ecephys session (day 4) with b…</td><td>&quot;visual-auditory task-switching…</td><td>&quot;Vayle Lafehr&quot;</td><td>&quot;NP3&quot;</td><td>&quot;Neural Circuits &amp; Behavior | M…</td><td>null</td><td>[&quot;task&quot;, &quot;sync&quot;, … &quot;behavior_day_72&quot;]</td><td>null</td><td>null</td><td>null</td><td>null</td><td>null</td><td>&quot;https://raw.githubusercontent.…</td><td>null</td><td>&quot;P202D&quot;</td><td>null</td><td>null</td><td>&quot;VGAT-ChR2-YFP/wt&quot;</td><td>&quot;F&quot;</td><td>&quot;Mus musculus&quot;</td><td>&quot;743199&quot;</td><td>null</td><td>&quot;VGAT-ChR2-YFP&quot;</td><td>2024-05-18 07:00:00 UTC</td><td>&quot;/data/dynamicrouting_datacube_…</td></tr><tr><td>&quot;da9bcf31-6ddf-4bae-bb99-836e92…</td><td>2023-02-08 01:08:15 UTC</td><td>&quot;644866_2023-02-07&quot;</td><td>&quot;ecephys session (day 1) with b…</td><td>&quot;visual-auditory task-switching…</td><td>&quot;Jackie Kuyat&quot;</td><td>&quot;NP3&quot;</td><td>&quot;Neural Circuits &amp; Behavior | M…</td><td>null</td><td>[&quot;task&quot;, &quot;sync&quot;, … &quot;behavior_day_50&quot;]</td><td>null</td><td>null</td><td>null</td><td>null</td><td>null</td><td>&quot;https://github.com/samgale/Dyn…</td><td>null</td><td>&quot;P189D&quot;</td><td>null</td><td>null</td><td>&quot;wt/wt&quot;</td><td>&quot;F&quot;</td><td>&quot;Mus musculus&quot;</td><td>&quot;644866&quot;</td><td>null</td><td>&quot;C57BL6J(VB)&quot;</td><td>2022-08-02 07:00:00 UTC</td><td>&quot;/data/dynamicrouting_datacube_…</td></tr><tr><td>&quot;e05c0cd9-6ead-482b-bb71-be749f…</td><td>2024-09-20 17:23:33 UTC</td><td>&quot;733891_2024-09-20&quot;</td><td>&quot;ecephys session (day 5) with b…</td><td>&quot;visual-auditory task-switching…</td><td>&quot;Hannah Cabasco&quot;</td><td>&quot;NP3&quot;</td><td>&quot;Neural Circuits &amp; Behavior | M…</td><td>null</td><td>[&quot;task&quot;, &quot;sync&quot;, … &quot;behavior_day_50&quot;]</td><td>null</td><td>null</td><td>null</td><td>null</td><td>null</td><td>&quot;https://raw.githubusercontent.…</td><td>null</td><td>&quot;P175D&quot;</td><td>null</td><td>null</td><td>&quot;Vip-IRES-Cre/wt;Ai32(RCL-ChR2(…</td><td>&quot;F&quot;</td><td>&quot;Mus musculus&quot;</td><td>&quot;733891&quot;</td><td>null</td><td>&quot;Vip-IRES-Cre;Ai32&quot;</td><td>2024-03-29 07:00:00 UTC</td><td>&quot;/data/dynamicrouting_datacube_…</td></tr><tr><td>&quot;e20517b4-9c39-4f70-baec-0e4f4f…</td><td>2024-08-07 19:03:44 UTC</td><td>&quot;713655_2024-08-07&quot;</td><td>&quot;ecephys session (day 3) with b…</td><td>&quot;visual-auditory task-switching…</td><td>&quot;Vayle Lafehr&quot;</td><td>&quot;NP3&quot;</td><td>&quot;Neural Circuits &amp; Behavior | M…</td><td>null</td><td>[&quot;task&quot;, &quot;sync&quot;, … &quot;behavior_day_105&quot;]</td><td>null</td><td>null</td><td>null</td><td>null</td><td>null</td><td>&quot;https://raw.githubusercontent.…</td><td>null</td><td>&quot;P258D&quot;</td><td>null</td><td>null</td><td>&quot;Sst-IRES-Cre/wt;Ai32(RCL-ChR2(…</td><td>&quot;M&quot;</td><td>&quot;Mus musculus&quot;</td><td>&quot;713655&quot;</td><td>null</td><td>&quot;Sst-IRES-Cre;Ai32&quot;</td><td>2023-11-23 08:00:00 UTC</td><td>&quot;/data/dynamicrouting_datacube_…</td></tr></tbody></table></div>"
      ],
      "text/plain": [
       "shape: (10, 28)\n",
       "┌────────────┬────────────┬───────────┬───────────┬───┬────────┬───────────┬───────────┬───────────┐\n",
       "│ identifier ┆ session_st ┆ session_i ┆ session_d ┆ … ┆ weight ┆ strain    ┆ date_of_b ┆ _nwb_path │\n",
       "│ ---        ┆ art_time   ┆ d         ┆ escriptio ┆   ┆ ---    ┆ ---       ┆ irth      ┆ ---       │\n",
       "│ str        ┆ ---        ┆ ---       ┆ n         ┆   ┆ null   ┆ str       ┆ ---       ┆ str       │\n",
       "│            ┆ datetime[μ ┆ str       ┆ ---       ┆   ┆        ┆           ┆ datetime[ ┆           │\n",
       "│            ┆ s, UTC]    ┆           ┆ str       ┆   ┆        ┆           ┆ μs, UTC]  ┆           │\n",
       "╞════════════╪════════════╪═══════════╪═══════════╪═══╪════════╪═══════════╪═══════════╪═══════════╡\n",
       "│ 89dd7188-7 ┆ 2024-10-11 ┆ 741137_20 ┆ ecephys   ┆ … ┆ null   ┆ null      ┆ 2024-03-1 ┆ /data/dyn │\n",
       "│ ff6-40db-a ┆ 18:34:19   ┆ 24-10-11  ┆ session   ┆   ┆        ┆           ┆ 9         ┆ amicrouti │\n",
       "│ 3f0-ed1286 ┆ UTC        ┆           ┆ (day 4)   ┆   ┆        ┆           ┆ 07:00:00  ┆ ng_datacu │\n",
       "│ …          ┆            ┆           ┆ with b…   ┆   ┆        ┆           ┆ UTC       ┆ be_…      │\n",
       "│ 5a1de65a-9 ┆ 2023-12-06 ┆ 686176_20 ┆ ecephys   ┆ … ┆ null   ┆ VGAT-ChR2 ┆ 2023-05-2 ┆ /data/dyn │\n",
       "│ aeb-4e7a-9 ┆ 21:03:34   ┆ 23-12-06  ┆ session   ┆   ┆        ┆ -YFP(ND)  ┆ 6         ┆ amicrouti │\n",
       "│ e2d-858f19 ┆ UTC        ┆           ┆ (day 3)   ┆   ┆        ┆           ┆ 07:00:00  ┆ ng_datacu │\n",
       "│ …          ┆            ┆           ┆ with b…   ┆   ┆        ┆           ┆ UTC       ┆ be_…      │\n",
       "│ 20bdd0ae-5 ┆ 2024-03-04 ┆ 702136_20 ┆ ecephys   ┆ … ┆ null   ┆ C57BL6J(N ┆ 2023-09-0 ┆ /data/dyn │\n",
       "│ 056-4eb2-b ┆ 21:21:35   ┆ 24-03-04  ┆ session   ┆   ┆        ┆ P)        ┆ 6         ┆ amicrouti │\n",
       "│ fff-e539be ┆ UTC        ┆           ┆ (day 1)   ┆   ┆        ┆           ┆ 07:00:00  ┆ ng_datacu │\n",
       "│ …          ┆            ┆           ┆ with b…   ┆   ┆        ┆           ┆ UTC       ┆ be_…      │\n",
       "│ 17ccc163-8 ┆ 2025-01-16 ┆ 744279_20 ┆ ecephys   ┆ … ┆ null   ┆ Sst-IRES- ┆ 2024-05-2 ┆ /data/dyn │\n",
       "│ 4d9-4c7d-8 ┆ 22:01:37   ┆ 25-01-16  ┆ session   ┆   ┆        ┆ Cre;Ai32  ┆ 5         ┆ amicrouti │\n",
       "│ 654-1505c1 ┆ UTC        ┆           ┆ (day 4)   ┆   ┆        ┆           ┆ 07:00:00  ┆ ng_datacu │\n",
       "│ …          ┆            ┆           ┆ withou…   ┆   ┆        ┆           ┆ UTC       ┆ be_…      │\n",
       "│ b006cedb-8 ┆ 2024-04-22 ┆ 706401_20 ┆ ecephys   ┆ … ┆ null   ┆ Sst-IRES- ┆ 2023-10-0 ┆ /data/dyn │\n",
       "│ 235-4f62-8 ┆ 20:15:24   ┆ 24-04-22  ┆ session   ┆   ┆        ┆ Cre;Ai32  ┆ 6         ┆ amicrouti │\n",
       "│ adb-291c62 ┆ UTC        ┆           ┆ (day 1)   ┆   ┆        ┆           ┆ 07:00:00  ┆ ng_datacu │\n",
       "│ …          ┆            ┆           ┆ with b…   ┆   ┆        ┆           ┆ UTC       ┆ be_…      │\n",
       "│ ac84d7bc-0 ┆ 2023-12-12 ┆ 676909_20 ┆ ecephys   ┆ … ┆ null   ┆ Pvalb-IRE ┆ 2023-03-3 ┆ /data/dyn │\n",
       "│ 546-4dfb-9 ┆ 21:04:37   ┆ 23-12-12  ┆ session   ┆   ┆        ┆ S-Cre;Ai3 ┆ 0         ┆ amicrouti │\n",
       "│ 048-d7156c ┆ UTC        ┆           ┆ (day 2)   ┆   ┆        ┆ 2         ┆ 07:00:00  ┆ ng_datacu │\n",
       "│ …          ┆            ┆           ┆ with b…   ┆   ┆        ┆           ┆ UTC       ┆ be_…      │\n",
       "│ 21dc8502-3 ┆ 2024-12-06 ┆ 743199_20 ┆ ecephys   ┆ … ┆ null   ┆ VGAT-ChR2 ┆ 2024-05-1 ┆ /data/dyn │\n",
       "│ 34f-47e8-a ┆ 19:06:17   ┆ 24-12-06  ┆ session   ┆   ┆        ┆ -YFP      ┆ 8         ┆ amicrouti │\n",
       "│ c94-5946c9 ┆ UTC        ┆           ┆ (day 4)   ┆   ┆        ┆           ┆ 07:00:00  ┆ ng_datacu │\n",
       "│ …          ┆            ┆           ┆ with b…   ┆   ┆        ┆           ┆ UTC       ┆ be_…      │\n",
       "│ da9bcf31-6 ┆ 2023-02-08 ┆ 644866_20 ┆ ecephys   ┆ … ┆ null   ┆ C57BL6J(V ┆ 2022-08-0 ┆ /data/dyn │\n",
       "│ ddf-4bae-b ┆ 01:08:15   ┆ 23-02-07  ┆ session   ┆   ┆        ┆ B)        ┆ 2         ┆ amicrouti │\n",
       "│ b99-836e92 ┆ UTC        ┆           ┆ (day 1)   ┆   ┆        ┆           ┆ 07:00:00  ┆ ng_datacu │\n",
       "│ …          ┆            ┆           ┆ with b…   ┆   ┆        ┆           ┆ UTC       ┆ be_…      │\n",
       "│ e05c0cd9-6 ┆ 2024-09-20 ┆ 733891_20 ┆ ecephys   ┆ … ┆ null   ┆ Vip-IRES- ┆ 2024-03-2 ┆ /data/dyn │\n",
       "│ ead-482b-b ┆ 17:23:33   ┆ 24-09-20  ┆ session   ┆   ┆        ┆ Cre;Ai32  ┆ 9         ┆ amicrouti │\n",
       "│ b71-be749f ┆ UTC        ┆           ┆ (day 5)   ┆   ┆        ┆           ┆ 07:00:00  ┆ ng_datacu │\n",
       "│ …          ┆            ┆           ┆ with b…   ┆   ┆        ┆           ┆ UTC       ┆ be_…      │\n",
       "│ e20517b4-9 ┆ 2024-08-07 ┆ 713655_20 ┆ ecephys   ┆ … ┆ null   ┆ Sst-IRES- ┆ 2023-11-2 ┆ /data/dyn │\n",
       "│ c39-4f70-b ┆ 19:03:44   ┆ 24-08-07  ┆ session   ┆   ┆        ┆ Cre;Ai32  ┆ 3         ┆ amicrouti │\n",
       "│ aec-0e4f4f ┆ UTC        ┆           ┆ (day 3)   ┆   ┆        ┆           ┆ 08:00:00  ┆ ng_datacu │\n",
       "│ …          ┆            ┆           ┆ with b…   ┆   ┆        ┆           ┆ UTC       ┆ be_…      │\n",
       "└────────────┴────────────┴───────────┴───────────┴───┴────────┴───────────┴───────────┴───────────┘"
      ]
     },
     "execution_count": 6,
     "metadata": {},
     "output_type": "execute_result"
    }
   ],
   "source": [
    "lazynwb.get_metadata_df(nwb_paths[:10], as_polars=True)"
   ]
  },
  {
   "cell_type": "code",
   "execution_count": 7,
   "metadata": {},
   "outputs": [
    {
     "name": "stderr",
     "output_type": "stream",
     "text": [
      "Getting multi-NWB units table: 100%|███████████████████████████████████████████████████| 10/10 [00:02<00:00,  3.71NWB/s]\n"
     ]
    },
    {
     "data": {
      "text/html": [
       "<div><style>\n",
       ".dataframe > thead > tr,\n",
       ".dataframe > tbody > tr {\n",
       "  text-align: right;\n",
       "  white-space: pre-wrap;\n",
       "}\n",
       "</style>\n",
       "<small>shape: (25_563, 56)</small><table border=\"1\" class=\"dataframe\"><thead><tr><th>location</th><th>d_prime</th><th>sliding_rp_violation</th><th>nn_hit_rate</th><th>silhouette</th><th>firing_range</th><th>num_spikes</th><th>velocity_below</th><th>rp_violations</th><th>cluster_id</th><th>drift_mad</th><th>ccf_ap</th><th>snr</th><th>decoder_label</th><th>rp_contamination</th><th>electrode_group_name</th><th>ccf_dv</th><th>decoder_probability</th><th>nn_miss_rate</th><th>presence_ratio</th><th>unit_id</th><th>velocity_above</th><th>peak_trough_ratio</th><th>num_positive_peaks</th><th>repolarization_slope</th><th>recovery_slope</th><th>drift_ptp</th><th>amplitude_cutoff</th><th>isi_violations_ratio</th><th>is_not_drift</th><th>exp_decay</th><th>drift_std</th><th>peak_to_valley</th><th>firing_rate</th><th>amplitude_median</th><th>activity_drift</th><th>isi_violations_count</th><th>peak_waveform_index</th><th>amplitude</th><th>structure</th><th>isolation_distance</th><th>peak_electrode</th><th>id</th><th>peak_channel</th><th>default_qc</th><th>amplitude_cv_median</th><th>num_negative_peaks</th><th>ccf_ml</th><th>electrode_group</th><th>half_width</th><th>l_ratio</th><th>spread</th><th>amplitude_cv_range</th><th>_nwb_path</th><th>_table_path</th><th>_table_index</th></tr><tr><td>str</td><td>f64</td><td>f64</td><td>f64</td><td>f64</td><td>f64</td><td>f64</td><td>f64</td><td>f64</td><td>i64</td><td>f64</td><td>f64</td><td>f64</td><td>str</td><td>f64</td><td>str</td><td>f64</td><td>f64</td><td>f64</td><td>f64</td><td>str</td><td>f64</td><td>f64</td><td>i64</td><td>f64</td><td>f64</td><td>f64</td><td>f64</td><td>f64</td><td>bool</td><td>f64</td><td>f64</td><td>f64</td><td>f64</td><td>f64</td><td>f64</td><td>f64</td><td>i64</td><td>f64</td><td>str</td><td>f64</td><td>i64</td><td>i64</td><td>i64</td><td>bool</td><td>f64</td><td>i64</td><td>f64</td><td>str</td><td>f64</td><td>f64</td><td>f64</td><td>f64</td><td>str</td><td>str</td><td>i64</td></tr></thead><tbody><tr><td>&quot;ORBl6a&quot;</td><td>4.281373</td><td>0.01</td><td>0.806</td><td>0.141976</td><td>26.4</td><td>71775.0</td><td>NaN</td><td>16.0</td><td>0</td><td>2.430139</td><td>3550.0</td><td>4.834745</td><td>&quot;sua&quot;</td><td>0.006183</td><td>&quot;probeA&quot;</td><td>3775.0</td><td>0.85</td><td>0.007968</td><td>1.0</td><td>&quot;644866_2023-02-07_A-0&quot;</td><td>NaN</td><td>-0.452588</td><td>1</td><td>740589.671488</td><td>-67711.337793</td><td>9.695507</td><td>0.000079</td><td>0.007961</td><td>false</td><td>0.037873</td><td>2.713715</td><td>0.00026</td><td>18.083617</td><td>84.24</td><td>0.227792</td><td>31.0</td><td>0</td><td>122.129318</td><td>&quot;ORBl&quot;</td><td>66.810535</td><td>0</td><td>0</td><td>0</td><td>true</td><td>0.193386</td><td>1</td><td>4200.0</td><td>&quot;&lt;HDF5 object reference&gt;&quot;</td><td>0.00014</td><td>0.239281</td><td>60.0</td><td>0.179088</td><td>&quot;/data/dynamicrouting_datacube_…</td><td>&quot;/units&quot;</td><td>0</td></tr><tr><td>&quot;ORBl6a&quot;</td><td>5.418555</td><td>0.04</td><td>0.816667</td><td>0.161293</td><td>7.4</td><td>11494.0</td><td>NaN</td><td>1.0</td><td>1</td><td>2.78308</td><td>3550.0</td><td>7.657694</td><td>&quot;sua&quot;</td><td>0.015136</td><td>&quot;probeA&quot;</td><td>3775.0</td><td>0.89</td><td>0.006677</td><td>1.0</td><td>&quot;644866_2023-02-07_A-1&quot;</td><td>627.548131</td><td>-0.225426</td><td>2</td><td>447447.547107</td><td>-28566.300538</td><td>9.732039</td><td>0.000217</td><td>0.010014</td><td>false</td><td>0.036428</td><td>1.482738</td><td>0.000383</td><td>2.895898</td><td>79.56</td><td>0.357914</td><td>1.0</td><td>1</td><td>104.059671</td><td>&quot;ORBl&quot;</td><td>83.509683</td><td>1</td><td>1</td><td>1</td><td>true</td><td>NaN</td><td>1</td><td>4225.0</td><td>&quot;&lt;HDF5 object reference&gt;&quot;</td><td>0.000167</td><td>0.046852</td><td>80.0</td><td>NaN</td><td>&quot;/data/dynamicrouting_datacube_…</td><td>&quot;/units&quot;</td><td>1</td></tr><tr><td>&quot;ORBl6a&quot;</td><td>4.735588</td><td>0.09</td><td>0.781186</td><td>0.076461</td><td>12.0</td><td>12755.0</td><td>NaN</td><td>204.0</td><td>2</td><td>0.0</td><td>3500.0</td><td>1.7489517</td><td>&quot;noise&quot;</td><td>1.0</td><td>&quot;probeA&quot;</td><td>3650.0</td><td>0.811187</td><td>0.001895</td><td>1.0</td><td>&quot;644866_2023-02-07_A-2&quot;</td><td>NaN</td><td>-0.273573</td><td>2</td><td>73743.189412</td><td>-9301.16756</td><td>0.0</td><td>0.000135</td><td>3.61881</td><td>true</td><td>0.00127</td><td>0.0</td><td>0.00056</td><td>3.213605</td><td>23.4</td><td>0.091422</td><td>445.0</td><td>1</td><td>50.983919</td><td>&quot;ORBl&quot;</td><td>102.313619</td><td>13</td><td>2</td><td>13</td><td>false</td><td>NaN</td><td>2</td><td>4200.0</td><td>&quot;&lt;HDF5 object reference&gt;&quot;</td><td>0.00039</td><td>0.57761</td><td>160.0</td><td>NaN</td><td>&quot;/data/dynamicrouting_datacube_…</td><td>&quot;/units&quot;</td><td>2</td></tr><tr><td>&quot;ORBl6a&quot;</td><td>2.366996</td><td>0.235</td><td>0.349567</td><td>0.03802</td><td>2.88</td><td>3625.0</td><td>NaN</td><td>0.0</td><td>3</td><td>NaN</td><td>3525.0</td><td>1.4106961</td><td>&quot;noise&quot;</td><td>0.0</td><td>&quot;probeA&quot;</td><td>3700.0</td><td>0.864925</td><td>0.010455</td><td>1.0</td><td>&quot;644866_2023-02-07_A-3&quot;</td><td>NaN</td><td>-1.109059</td><td>1</td><td>60093.659828</td><td>-49562.068985</td><td>NaN</td><td>0.000161</td><td>0.0</td><td>false</td><td>NaN</td><td>NaN</td><td>0.00068</td><td>0.913314</td><td>18.72</td><td>0.117015</td><td>0.0</td><td>5</td><td>41.338444</td><td>&quot;ORBl&quot;</td><td>77.402025</td><td>9</td><td>3</td><td>9</td><td>true</td><td>0.708155</td><td>2</td><td>4200.0</td><td>&quot;&lt;HDF5 object reference&gt;&quot;</td><td>0.00049</td><td>2.211805</td><td>160.0</td><td>0.388379</td><td>&quot;/data/dynamicrouting_datacube_…</td><td>&quot;/units&quot;</td><td>3</td></tr><tr><td>&quot;ORBl6a&quot;</td><td>4.207927</td><td>0.095</td><td>0.551418</td><td>0.089935</td><td>5.4</td><td>11472.0</td><td>NaN</td><td>7.0</td><td>4</td><td>2.788944</td><td>3525.0</td><td>4.443199</td><td>&quot;sua&quot;</td><td>0.111805</td><td>&quot;probeA&quot;</td><td>3725.0</td><td>0.74</td><td>0.005888</td><td>1.0</td><td>&quot;644866_2023-02-07_A-4&quot;</td><td>1159.242801</td><td>-0.484782</td><td>1</td><td>517700.284852</td><td>-46607.973599</td><td>12.336048</td><td>0.000536</td><td>0.090475</td><td>true</td><td>0.021465</td><td>1.796561</td><td>0.000287</td><td>2.890355</td><td>60.839996</td><td>0.088802</td><td>9.0</td><td>5</td><td>91.774765</td><td>&quot;ORBl&quot;</td><td>81.022349</td><td>5</td><td>4</td><td>5</td><td>true</td><td>0.198013</td><td>1</td><td>4225.0</td><td>&quot;&lt;HDF5 object reference&gt;&quot;</td><td>0.00013</td><td>0.589177</td><td>120.0</td><td>0.089106</td><td>&quot;/data/dynamicrouting_datacube_…</td><td>&quot;/units&quot;</td><td>4</td></tr><tr><td>&hellip;</td><td>&hellip;</td><td>&hellip;</td><td>&hellip;</td><td>&hellip;</td><td>&hellip;</td><td>&hellip;</td><td>&hellip;</td><td>&hellip;</td><td>&hellip;</td><td>&hellip;</td><td>&hellip;</td><td>&hellip;</td><td>&hellip;</td><td>&hellip;</td><td>&hellip;</td><td>&hellip;</td><td>&hellip;</td><td>&hellip;</td><td>&hellip;</td><td>&hellip;</td><td>&hellip;</td><td>&hellip;</td><td>&hellip;</td><td>&hellip;</td><td>&hellip;</td><td>&hellip;</td><td>&hellip;</td><td>&hellip;</td><td>&hellip;</td><td>&hellip;</td><td>&hellip;</td><td>&hellip;</td><td>&hellip;</td><td>&hellip;</td><td>&hellip;</td><td>&hellip;</td><td>&hellip;</td><td>&hellip;</td><td>&hellip;</td><td>&hellip;</td><td>&hellip;</td><td>&hellip;</td><td>&hellip;</td><td>&hellip;</td><td>&hellip;</td><td>&hellip;</td><td>&hellip;</td><td>&hellip;</td><td>&hellip;</td><td>&hellip;</td><td>&hellip;</td><td>&hellip;</td><td>&hellip;</td><td>&hellip;</td><td>&hellip;</td></tr><tr><td>&quot;MOs5&quot;</td><td>9.822377</td><td>NaN</td><td>0.54902</td><td>0.146138</td><td>0.0</td><td>28.0</td><td>NaN</td><td>0.0</td><td>271</td><td>NaN</td><td>3300.0</td><td>20.605663</td><td>&quot;mua&quot;</td><td>0.0</td><td>&quot;probeF&quot;</td><td>2750.0</td><td>0.89</td><td>0.000534</td><td>0.181034</td><td>&quot;741137_2024-10-11_F-271&quot;</td><td>686.546356</td><td>-0.425881</td><td>1</td><td>1.8013e6</td><td>-285008.501697</td><td>NaN</td><td>NaN</td><td>0.0</td><td>true</td><td>0.022977</td><td>NaN</td><td>0.00048</td><td>0.004</td><td>377.90997</td><td>0.0</td><td>0.0</td><td>7</td><td>511.624283</td><td>&quot;MOs&quot;</td><td>9.0031e14</td><td>1582</td><td>1625</td><td>46</td><td>false</td><td>NaN</td><td>1</td><td>3650.0</td><td>&quot;&lt;HDF5 object reference&gt;&quot;</td><td>0.000157</td><td>NaN</td><td>140.0</td><td>NaN</td><td>&quot;/data/dynamicrouting_datacube_…</td><td>&quot;/units&quot;</td><td>1625</td></tr><tr><td>&quot;MOs5&quot;</td><td>2.368705</td><td>NaN</td><td>0.101499</td><td>0.011016</td><td>0.8</td><td>2115.0</td><td>NaN</td><td>0.0</td><td>272</td><td>NaN</td><td>3200.0</td><td>3.916986</td><td>&quot;sua&quot;</td><td>0.0</td><td>&quot;probeF&quot;</td><td>2450.0</td><td>0.59</td><td>0.012975</td><td>1.0</td><td>&quot;741137_2024-10-11_F-272&quot;</td><td>NaN</td><td>-0.422253</td><td>1</td><td>435215.544868</td><td>-55157.82277</td><td>NaN</td><td>0.000368</td><td>0.0</td><td>true</td><td>0.022351</td><td>NaN</td><td>0.00044</td><td>0.302125</td><td>81.899994</td><td>0.038318</td><td>0.0</td><td>7</td><td>115.914211</td><td>&quot;MOs&quot;</td><td>83.333906</td><td>1614</td><td>1626</td><td>78</td><td>true</td><td>0.272317</td><td>1</td><td>3525.0</td><td>&quot;&lt;HDF5 object reference&gt;&quot;</td><td>0.000213</td><td>1.342152</td><td>160.0</td><td>0.116382</td><td>&quot;/data/dynamicrouting_datacube_…</td><td>&quot;/units&quot;</td><td>1626</td></tr><tr><td>&quot;MOs2/3&quot;</td><td>1.950759</td><td>NaN</td><td>0.104294</td><td>0.012351</td><td>0.6</td><td>895.0</td><td>NaN</td><td>2.0</td><td>273</td><td>NaN</td><td>3150.0</td><td>6.5293965</td><td>&quot;mua&quot;</td><td>1.0</td><td>&quot;probeF&quot;</td><td>2300.0</td><td>0.89</td><td>0.0082</td><td>0.939655</td><td>&quot;741137_2024-10-11_F-273&quot;</td><td>462.172812</td><td>-0.460746</td><td>1</td><td>366375.417186</td><td>-73014.360392</td><td>NaN</td><td>0.004339</td><td>17.478647</td><td>false</td><td>0.021992</td><td>NaN</td><td>0.000637</td><td>0.12785</td><td>91.259995</td><td>0.104911</td><td>6.0</td><td>8</td><td>132.369095</td><td>&quot;MOs&quot;</td><td>64.89428</td><td>1633</td><td>1627</td><td>97</td><td>false</td><td>0.304937</td><td>1</td><td>3450.0</td><td>&quot;&lt;HDF5 object reference&gt;&quot;</td><td>0.00024</td><td>5.435848</td><td>160.0</td><td>0.195755</td><td>&quot;/data/dynamicrouting_datacube_…</td><td>&quot;/units&quot;</td><td>1627</td></tr><tr><td>&quot;MOs2/3&quot;</td><td>2.815457</td><td>NaN</td><td>0.127976</td><td>0.035291</td><td>0.2</td><td>344.0</td><td>NaN</td><td>1.0</td><td>274</td><td>NaN</td><td>3150.0</td><td>11.141338</td><td>&quot;mua&quot;</td><td>1.0</td><td>&quot;probeF&quot;</td><td>2300.0</td><td>0.78</td><td>0.005293</td><td>0.844828</td><td>&quot;741137_2024-10-11_F-274&quot;</td><td>285.584828</td><td>-0.379229</td><td>1</td><td>662929.484267</td><td>-112392.873489</td><td>NaN</td><td>NaN</td><td>19.719039</td><td>true</td><td>0.024543</td><td>NaN</td><td>0.000647</td><td>0.04914</td><td>159.12</td><td>0.014199</td><td>1.0</td><td>8</td><td>213.382172</td><td>&quot;MOs&quot;</td><td>72.494576</td><td>1633</td><td>1628</td><td>97</td><td>false</td><td>NaN</td><td>1</td><td>3450.0</td><td>&quot;&lt;HDF5 object reference&gt;&quot;</td><td>0.000197</td><td>3.821001</td><td>140.0</td><td>NaN</td><td>&quot;/data/dynamicrouting_datacube_…</td><td>&quot;/units&quot;</td><td>1628</td></tr><tr><td>&quot;MOs5&quot;</td><td>4.054173</td><td>NaN</td><td>0.347222</td><td>0.096441</td><td>0.0</td><td>40.0</td><td>NaN</td><td>0.0</td><td>275</td><td>NaN</td><td>3300.0</td><td>11.557381</td><td>&quot;mua&quot;</td><td>0.0</td><td>&quot;probeF&quot;</td><td>2750.0</td><td>0.92</td><td>0.000568</td><td>0.267241</td><td>&quot;741137_2024-10-11_F-275&quot;</td><td>496.55173</td><td>-0.534928</td><td>1</td><td>790874.972356</td><td>-189501.904381</td><td>NaN</td><td>NaN</td><td>0.0</td><td>true</td><td>0.014422</td><td>NaN</td><td>0.000537</td><td>0.005714</td><td>239.84999</td><td>0.043566</td><td>0.0</td><td>7</td><td>307.651443</td><td>&quot;MOs&quot;</td><td>1.9801e14</td><td>1582</td><td>1629</td><td>46</td><td>false</td><td>NaN</td><td>1</td><td>3650.0</td><td>&quot;&lt;HDF5 object reference&gt;&quot;</td><td>0.00023</td><td>NaN</td><td>140.0</td><td>NaN</td><td>&quot;/data/dynamicrouting_datacube_…</td><td>&quot;/units&quot;</td><td>1629</td></tr></tbody></table></div>"
      ],
      "text/plain": [
       "shape: (25_563, 56)\n",
       "┌──────────┬──────────┬────────────┬───────────┬───┬───────────┬───────────┬───────────┬───────────┐\n",
       "│ location ┆ d_prime  ┆ sliding_rp ┆ nn_hit_ra ┆ … ┆ amplitude ┆ _nwb_path ┆ _table_pa ┆ _table_in │\n",
       "│ ---      ┆ ---      ┆ _violation ┆ te        ┆   ┆ _cv_range ┆ ---       ┆ th        ┆ dex       │\n",
       "│ str      ┆ f64      ┆ ---        ┆ ---       ┆   ┆ ---       ┆ str       ┆ ---       ┆ ---       │\n",
       "│          ┆          ┆ f64        ┆ f64       ┆   ┆ f64       ┆           ┆ str       ┆ i64       │\n",
       "╞══════════╪══════════╪════════════╪═══════════╪═══╪═══════════╪═══════════╪═══════════╪═══════════╡\n",
       "│ ORBl6a   ┆ 4.281373 ┆ 0.01       ┆ 0.806     ┆ … ┆ 0.179088  ┆ /data/dyn ┆ /units    ┆ 0         │\n",
       "│          ┆          ┆            ┆           ┆   ┆           ┆ amicrouti ┆           ┆           │\n",
       "│          ┆          ┆            ┆           ┆   ┆           ┆ ng_datacu ┆           ┆           │\n",
       "│          ┆          ┆            ┆           ┆   ┆           ┆ be_…      ┆           ┆           │\n",
       "│ ORBl6a   ┆ 5.418555 ┆ 0.04       ┆ 0.816667  ┆ … ┆ NaN       ┆ /data/dyn ┆ /units    ┆ 1         │\n",
       "│          ┆          ┆            ┆           ┆   ┆           ┆ amicrouti ┆           ┆           │\n",
       "│          ┆          ┆            ┆           ┆   ┆           ┆ ng_datacu ┆           ┆           │\n",
       "│          ┆          ┆            ┆           ┆   ┆           ┆ be_…      ┆           ┆           │\n",
       "│ ORBl6a   ┆ 4.735588 ┆ 0.09       ┆ 0.781186  ┆ … ┆ NaN       ┆ /data/dyn ┆ /units    ┆ 2         │\n",
       "│          ┆          ┆            ┆           ┆   ┆           ┆ amicrouti ┆           ┆           │\n",
       "│          ┆          ┆            ┆           ┆   ┆           ┆ ng_datacu ┆           ┆           │\n",
       "│          ┆          ┆            ┆           ┆   ┆           ┆ be_…      ┆           ┆           │\n",
       "│ ORBl6a   ┆ 2.366996 ┆ 0.235      ┆ 0.349567  ┆ … ┆ 0.388379  ┆ /data/dyn ┆ /units    ┆ 3         │\n",
       "│          ┆          ┆            ┆           ┆   ┆           ┆ amicrouti ┆           ┆           │\n",
       "│          ┆          ┆            ┆           ┆   ┆           ┆ ng_datacu ┆           ┆           │\n",
       "│          ┆          ┆            ┆           ┆   ┆           ┆ be_…      ┆           ┆           │\n",
       "│ ORBl6a   ┆ 4.207927 ┆ 0.095      ┆ 0.551418  ┆ … ┆ 0.089106  ┆ /data/dyn ┆ /units    ┆ 4         │\n",
       "│          ┆          ┆            ┆           ┆   ┆           ┆ amicrouti ┆           ┆           │\n",
       "│          ┆          ┆            ┆           ┆   ┆           ┆ ng_datacu ┆           ┆           │\n",
       "│          ┆          ┆            ┆           ┆   ┆           ┆ be_…      ┆           ┆           │\n",
       "│ …        ┆ …        ┆ …          ┆ …         ┆ … ┆ …         ┆ …         ┆ …         ┆ …         │\n",
       "│ MOs5     ┆ 9.822377 ┆ NaN        ┆ 0.54902   ┆ … ┆ NaN       ┆ /data/dyn ┆ /units    ┆ 1625      │\n",
       "│          ┆          ┆            ┆           ┆   ┆           ┆ amicrouti ┆           ┆           │\n",
       "│          ┆          ┆            ┆           ┆   ┆           ┆ ng_datacu ┆           ┆           │\n",
       "│          ┆          ┆            ┆           ┆   ┆           ┆ be_…      ┆           ┆           │\n",
       "│ MOs5     ┆ 2.368705 ┆ NaN        ┆ 0.101499  ┆ … ┆ 0.116382  ┆ /data/dyn ┆ /units    ┆ 1626      │\n",
       "│          ┆          ┆            ┆           ┆   ┆           ┆ amicrouti ┆           ┆           │\n",
       "│          ┆          ┆            ┆           ┆   ┆           ┆ ng_datacu ┆           ┆           │\n",
       "│          ┆          ┆            ┆           ┆   ┆           ┆ be_…      ┆           ┆           │\n",
       "│ MOs2/3   ┆ 1.950759 ┆ NaN        ┆ 0.104294  ┆ … ┆ 0.195755  ┆ /data/dyn ┆ /units    ┆ 1627      │\n",
       "│          ┆          ┆            ┆           ┆   ┆           ┆ amicrouti ┆           ┆           │\n",
       "│          ┆          ┆            ┆           ┆   ┆           ┆ ng_datacu ┆           ┆           │\n",
       "│          ┆          ┆            ┆           ┆   ┆           ┆ be_…      ┆           ┆           │\n",
       "│ MOs2/3   ┆ 2.815457 ┆ NaN        ┆ 0.127976  ┆ … ┆ NaN       ┆ /data/dyn ┆ /units    ┆ 1628      │\n",
       "│          ┆          ┆            ┆           ┆   ┆           ┆ amicrouti ┆           ┆           │\n",
       "│          ┆          ┆            ┆           ┆   ┆           ┆ ng_datacu ┆           ┆           │\n",
       "│          ┆          ┆            ┆           ┆   ┆           ┆ be_…      ┆           ┆           │\n",
       "│ MOs5     ┆ 4.054173 ┆ NaN        ┆ 0.347222  ┆ … ┆ NaN       ┆ /data/dyn ┆ /units    ┆ 1629      │\n",
       "│          ┆          ┆            ┆           ┆   ┆           ┆ amicrouti ┆           ┆           │\n",
       "│          ┆          ┆            ┆           ┆   ┆           ┆ ng_datacu ┆           ┆           │\n",
       "│          ┆          ┆            ┆           ┆   ┆           ┆ be_…      ┆           ┆           │\n",
       "└──────────┴──────────┴────────────┴───────────┴───┴───────────┴───────────┴───────────┴───────────┘"
      ]
     },
     "execution_count": 7,
     "metadata": {},
     "output_type": "execute_result"
    }
   ],
   "source": [
    "lazynwb.get_df(nwb_paths[:10], 'units', as_polars=True)"
   ]
  },
  {
   "cell_type": "markdown",
   "metadata": {},
   "source": [
    "**Note: by default, the `units` table does not contain array-type columns**"
   ]
  },
  {
   "cell_type": "markdown",
   "metadata": {},
   "source": [
    "---\n",
    "3. Data can be accessed lazily:\n",
    "- `spike_times` can be loaded on a per-unit basis, across sessions"
   ]
  },
  {
   "cell_type": "code",
   "execution_count": 12,
   "metadata": {},
   "outputs": [
    {
     "name": "stderr",
     "output_type": "stream",
     "text": [
      "Getting multi-NWB units table: 100%|███████████████████████████████████████████████████| 20/20 [00:02<00:00,  8.68NWB/s]\n"
     ]
    },
    {
     "data": {
      "text/html": [
       "<div><style>\n",
       ".dataframe > thead > tr,\n",
       ".dataframe > tbody > tr {\n",
       "  text-align: right;\n",
       "  white-space: pre-wrap;\n",
       "}\n",
       "</style>\n",
       "<small>shape: (10, 4)</small><table border=\"1\" class=\"dataframe\"><thead><tr><th>unit_id</th><th>location</th><th>spike_times</th><th>n_spikes</th></tr><tr><td>str</td><td>str</td><td>list[f64]</td><td>u32</td></tr></thead><tbody><tr><td>&quot;628801_2022-09-19_F-356&quot;</td><td>&quot;MOs2/3&quot;</td><td>[213.783567, 589.088796, … 4812.479668]</td><td>34</td></tr><tr><td>&quot;636397_2022-09-27_F-177&quot;</td><td>&quot;MOs6a&quot;</td><td>[17.876565, 17.921632, … 4816.891665]</td><td>40397</td></tr><tr><td>&quot;644866_2023-02-07_A-160&quot;</td><td>&quot;MOs5&quot;</td><td>[244.613945, 244.622112, … 4127.071267]</td><td>929</td></tr><tr><td>&quot;644866_2023-02-07_A-350&quot;</td><td>&quot;MOs6a&quot;</td><td>[194.984813, 230.413784, … 4139.012468]</td><td>2715</td></tr><tr><td>&quot;644866_2023-02-07_A-383&quot;</td><td>&quot;MOs5&quot;</td><td>[186.240237, 188.015365, … 4145.589784]</td><td>1740</td></tr><tr><td>&quot;676909_2023-12-12_B-262&quot;</td><td>&quot;MOs5&quot;</td><td>[20.364423, 20.499456, … 8296.221835]</td><td>14046</td></tr><tr><td>&quot;676909_2023-12-12_C-352&quot;</td><td>&quot;MOs5&quot;</td><td>[65.940278, 70.813431, … 7967.841689]</td><td>139</td></tr><tr><td>&quot;676909_2023-12-12_C-635&quot;</td><td>&quot;MOs5&quot;</td><td>[20.307347, 20.36708, … 8300.602839]</td><td>53781</td></tr><tr><td>&quot;741137_2024-10-11_F-230&quot;</td><td>&quot;MOs5&quot;</td><td>[69.341044, 113.885533, … 7001.00798]</td><td>316</td></tr><tr><td>&quot;743199_2024-12-06_E-233&quot;</td><td>&quot;MOs5&quot;</td><td>[20.886107, 21.189971, … 7026.011129]</td><td>39966</td></tr></tbody></table></div>"
      ],
      "text/plain": [
       "shape: (10, 4)\n",
       "┌─────────────────────────┬──────────┬─────────────────────────────────┬──────────┐\n",
       "│ unit_id                 ┆ location ┆ spike_times                     ┆ n_spikes │\n",
       "│ ---                     ┆ ---      ┆ ---                             ┆ ---      │\n",
       "│ str                     ┆ str      ┆ list[f64]                       ┆ u32      │\n",
       "╞═════════════════════════╪══════════╪═════════════════════════════════╪══════════╡\n",
       "│ 628801_2022-09-19_F-356 ┆ MOs2/3   ┆ [213.783567, 589.088796, … 481… ┆ 34       │\n",
       "│ 636397_2022-09-27_F-177 ┆ MOs6a    ┆ [17.876565, 17.921632, … 4816.… ┆ 40397    │\n",
       "│ 644866_2023-02-07_A-160 ┆ MOs5     ┆ [244.613945, 244.622112, … 412… ┆ 929      │\n",
       "│ 644866_2023-02-07_A-350 ┆ MOs6a    ┆ [194.984813, 230.413784, … 413… ┆ 2715     │\n",
       "│ 644866_2023-02-07_A-383 ┆ MOs5     ┆ [186.240237, 188.015365, … 414… ┆ 1740     │\n",
       "│ 676909_2023-12-12_B-262 ┆ MOs5     ┆ [20.364423, 20.499456, … 8296.… ┆ 14046    │\n",
       "│ 676909_2023-12-12_C-352 ┆ MOs5     ┆ [65.940278, 70.813431, … 7967.… ┆ 139      │\n",
       "│ 676909_2023-12-12_C-635 ┆ MOs5     ┆ [20.307347, 20.36708, … 8300.6… ┆ 53781    │\n",
       "│ 741137_2024-10-11_F-230 ┆ MOs5     ┆ [69.341044, 113.885533, … 7001… ┆ 316      │\n",
       "│ 743199_2024-12-06_E-233 ┆ MOs5     ┆ [20.886107, 21.189971, … 7026.… ┆ 39966    │\n",
       "└─────────────────────────┴──────────┴─────────────────────────────────┴──────────┘"
      ]
     },
     "execution_count": 12,
     "metadata": {},
     "output_type": "execute_result"
    }
   ],
   "source": [
    "import polars as pl\n",
    "\n",
    "(\n",
    "    lazynwb.get_df(nwb_paths[:20], 'units', as_polars=True)\n",
    "    .filter(\n",
    "        pl.col('structure') == 'MOs',\n",
    "        pl.col('activity_drift') < 0.2,\n",
    "    )\n",
    "    .sample(10) # take a random sample of n rows in df\n",
    "    .pipe(lazynwb.merge_array_column, column_name='spike_times')\n",
    "    .select('unit_id', 'location', 'spike_times', pl.col('spike_times').list.len().alias('n_spikes'))\n",
    ")"
   ]
  },
  {
   "cell_type": "markdown",
   "metadata": {},
   "source": [
    "**Filter first (sessions, units), then fetch larger data**"
   ]
  },
  {
   "cell_type": "markdown",
   "metadata": {},
   "source": [
    "---\n",
    "\n",
    "# Other possible convenience functions / classes"
   ]
  },
  {
   "cell_type": "code",
   "execution_count": null,
   "metadata": {},
   "outputs": [
    {
     "name": "stderr",
     "output_type": "stream",
     "text": [
      "Getting multi-NWB units table:   0%|                                                            | 0/20 [00:00<?, ?NWB/s]"
     ]
    },
    {
     "name": "stderr",
     "output_type": "stream",
     "text": [
      "Getting multi-NWB units table: 100%|███████████████████████████████████████████████████| 20/20 [00:02<00:00,  8.32NWB/s]\n",
      "Getting spike times in intervals: 100%|████████████████████████████████████████████████| 7/7 [00:00<00:00, 5232.60NWB/s]\n"
     ]
    },
    {
     "data": {
      "text/html": [
       "<div>\n",
       "<style scoped>\n",
       "    .dataframe tbody tr th:only-of-type {\n",
       "        vertical-align: middle;\n",
       "    }\n",
       "\n",
       "    .dataframe tbody tr th {\n",
       "        vertical-align: top;\n",
       "    }\n",
       "\n",
       "    .dataframe thead th {\n",
       "        text-align: right;\n",
       "    }\n",
       "</style>\n",
       "<table border=\"1\" class=\"dataframe\">\n",
       "  <thead>\n",
       "    <tr style=\"text-align: right;\">\n",
       "      <th></th>\n",
       "      <th>_table_index_units</th>\n",
       "      <th>_table_index_trials</th>\n",
       "      <th>baseline</th>\n",
       "      <th>response</th>\n",
       "    </tr>\n",
       "  </thead>\n",
       "  <tbody>\n",
       "    <tr>\n",
       "      <th>0</th>\n",
       "      <td>512</td>\n",
       "      <td>257</td>\n",
       "      <td>2</td>\n",
       "      <td>0</td>\n",
       "    </tr>\n",
       "    <tr>\n",
       "      <th>1</th>\n",
       "      <td>512</td>\n",
       "      <td>234</td>\n",
       "      <td>1</td>\n",
       "      <td>0</td>\n",
       "    </tr>\n",
       "    <tr>\n",
       "      <th>2</th>\n",
       "      <td>512</td>\n",
       "      <td>374</td>\n",
       "      <td>0</td>\n",
       "      <td>0</td>\n",
       "    </tr>\n",
       "    <tr>\n",
       "      <th>3</th>\n",
       "      <td>512</td>\n",
       "      <td>443</td>\n",
       "      <td>0</td>\n",
       "      <td>0</td>\n",
       "    </tr>\n",
       "    <tr>\n",
       "      <th>4</th>\n",
       "      <td>512</td>\n",
       "      <td>190</td>\n",
       "      <td>0</td>\n",
       "      <td>0</td>\n",
       "    </tr>\n",
       "    <tr>\n",
       "      <th>...</th>\n",
       "      <td>...</td>\n",
       "      <td>...</td>\n",
       "      <td>...</td>\n",
       "      <td>...</td>\n",
       "    </tr>\n",
       "    <tr>\n",
       "      <th>5141</th>\n",
       "      <td>722</td>\n",
       "      <td>333</td>\n",
       "      <td>0</td>\n",
       "      <td>0</td>\n",
       "    </tr>\n",
       "    <tr>\n",
       "      <th>5142</th>\n",
       "      <td>722</td>\n",
       "      <td>405</td>\n",
       "      <td>0</td>\n",
       "      <td>0</td>\n",
       "    </tr>\n",
       "    <tr>\n",
       "      <th>5143</th>\n",
       "      <td>722</td>\n",
       "      <td>271</td>\n",
       "      <td>2</td>\n",
       "      <td>0</td>\n",
       "    </tr>\n",
       "    <tr>\n",
       "      <th>5144</th>\n",
       "      <td>722</td>\n",
       "      <td>428</td>\n",
       "      <td>0</td>\n",
       "      <td>0</td>\n",
       "    </tr>\n",
       "    <tr>\n",
       "      <th>5145</th>\n",
       "      <td>1385</td>\n",
       "      <td>180</td>\n",
       "      <td>7</td>\n",
       "      <td>6</td>\n",
       "    </tr>\n",
       "  </tbody>\n",
       "</table>\n",
       "<p>5146 rows × 4 columns</p>\n",
       "</div>"
      ],
      "text/plain": [
       "      _table_index_units  _table_index_trials  baseline  response\n",
       "0                    512                  257         2         0\n",
       "1                    512                  234         1         0\n",
       "2                    512                  374         0         0\n",
       "3                    512                  443         0         0\n",
       "4                    512                  190         0         0\n",
       "...                  ...                  ...       ...       ...\n",
       "5141                 722                  333         0         0\n",
       "5142                 722                  405         0         0\n",
       "5143                 722                  271         2         0\n",
       "5144                 722                  428         0         0\n",
       "5145                1385                  180         7         6\n",
       "\n",
       "[5146 rows x 4 columns]"
      ]
     },
     "execution_count": 20,
     "metadata": {},
     "output_type": "execute_result"
    }
   ],
   "source": [
    "lazynwb.get_spike_times_in_intervals(\n",
    "    units_df=lazynwb.get_df(nwb_paths[:20], 'units', as_polars=True).sample(10),\n",
    "    intervals={\n",
    "        'baseline': (pl.col('quiescent_stop_time') - 1, pl.col('quiescent_stop_time')),\n",
    "        'response': (pl.col('stim_start_time'), pl.col('stim_start_time') + 1),\n",
    "    },\n",
    "    intervals_df='trials',              # can be a dataframe, or the name of a dataframe in the NWBs\n",
    "    apply_obs_intervals=True,           # intervals that were not recorded have NaN spike counts instead of 0\n",
    "    keep_only_necessary_cols=True,     # disable to keep all unit and trial info on each row\n",
    "    as_counts=True,                     # disable to keep spike times\n",
    "    use_process_pool=True,\n",
    ")"
   ]
  },
  {
   "cell_type": "code",
   "execution_count": 21,
   "metadata": {},
   "outputs": [
    {
     "data": {
      "text/html": [
       "\n",
       "        <h3>NWB file: /data/dynamicrouting_datacube_v0.0.265/nwb/644866_2023-02-07.nwb</h3>\n",
       "        <ul>\n",
       "        <li><strong>identifier:</strong> da9bcf31-6ddf-4bae-bb99-836e923bf63e</li><li><strong>session_start_time:</strong> 2023-02-07 17:08:15-08:00</li><li><strong>session_id:</strong> 644866_2023-02-07</li><li><strong>session_description:</strong> ecephys session (day 1) with behavioral task data (day 50) and video recording of behavior</li><li><strong>experiment_description:</strong> visual-auditory task-switching behavior experiment</li><li><strong>experimenter:</strong> Jackie Kuyat</li><li><strong>lab:</strong> NP3</li><li><strong>institution:</strong> Neural Circuits & Behavior | MindScope program | Allen Institute for Neural Dynamics</li><li><strong>related_publications:</strong> None</li><li><strong>keywords:</strong> task, sync, video, ephys, units, ccf, dynamic_routing, production, stage_5_passed, first_block_vis, early_autorewards, mapping, rewards, experiment_day_1, behavior_day_50</li><li><strong>notes:</strong> None</li><li><strong>data_collection:</strong> None</li><li><strong>surgery:</strong> None</li><li><strong>pharmacology:</strong> None</li><li><strong>virus:</strong> None</li><li><strong>source_script:</strong> https://github.com/samgale/DynamicRoutingTask/blob/main/DynamicRouting1.py</li><li><strong>source_script_file_name:</strong> None</li></ul><h4>Subject</h4><ul><li><strong>age:</strong> P189D</li><li><strong>age__reference:</strong> None</li><li><strong>description:</strong> None</li><li><strong>genotype:</strong> wt/wt</li><li><strong>sex:</strong> F</li><li><strong>species:</strong> Mus musculus</li><li><strong>subject_id:</strong> 644866</li><li><strong>weight:</strong> None</li><li><strong>strain:</strong> C57BL6J(VB)</li><li><strong>date_of_birth:</strong> 2022-08-02 00:00:00-07:00</li></ul><h4>Paths</h4><details><summary>Click to expand</summary><ul><li>/acquisition/frametimes_eye_camera/timestamps</li><li>/acquisition/frametimes_front_camera/timestamps</li><li>/acquisition/frametimes_side_camera/timestamps</li><li>/acquisition/lick_sensor_events/data</li><li>/acquisition/lick_sensor_events/timestamps</li><li>/intervals/aud_rf_mapping_trials</li><li>/intervals/epochs</li><li>/intervals/performance</li><li>/intervals/trials</li><li>/intervals/vis_rf_mapping_trials</li><li>/processing/behavior/dlc_eye_camera</li><li>/processing/behavior/eye_tracking</li><li>/processing/behavior/facemap_front_camera/data</li><li>/processing/behavior/facemap_front_camera/timestamps</li><li>/processing/behavior/facemap_side_camera/data</li><li>/processing/behavior/facemap_side_camera/timestamps</li><li>/processing/behavior/licks/data</li><li>/processing/behavior/licks/timestamps</li><li>/processing/behavior/lp_front_camera</li><li>/processing/behavior/lp_side_camera</li><li>/processing/behavior/quiescent_interval_violations/timestamps</li><li>/processing/behavior/rewards/timestamps</li><li>/processing/behavior/running_speed/data</li><li>/processing/behavior/running_speed/timestamps</li></ul></details>"
      ],
      "text/plain": [
       "LazyNWB(PosixUPath('/data/dynamicrouting_datacube_v0.0.265/nwb/644866_2023-02-07.nwb'))"
      ]
     },
     "execution_count": 21,
     "metadata": {},
     "output_type": "execute_result"
    }
   ],
   "source": [
    "lazynwb.LazyNWB(nwb_paths[0])"
   ]
  },
  {
   "cell_type": "code",
   "execution_count": 23,
   "metadata": {},
   "outputs": [
    {
     "data": {
      "text/plain": [
       "datetime.datetime(2023, 2, 7, 17, 8, 15, tzinfo=datetime.timezone(datetime.timedelta(days=-1, seconds=57600)))"
      ]
     },
     "execution_count": 23,
     "metadata": {},
     "output_type": "execute_result"
    }
   ],
   "source": [
    "lazynwb.LazyNWB(nwb_paths[0]).session_start_time"
   ]
  }
 ],
 "metadata": {
  "kernelspec": {
   "display_name": "base",
   "language": "python",
   "name": "python3"
  },
  "language_info": {
   "codemirror_mode": {
    "name": "ipython",
    "version": 3
   },
   "file_extension": ".py",
   "mimetype": "text/x-python",
   "name": "python",
   "nbconvert_exporter": "python",
   "pygments_lexer": "ipython3",
   "version": "3.10.12"
  }
 },
 "nbformat": 4,
 "nbformat_minor": 2
}
